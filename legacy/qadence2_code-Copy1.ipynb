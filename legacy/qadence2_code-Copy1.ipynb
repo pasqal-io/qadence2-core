{
 "cells": [
  {
   "cell_type": "code",
   "execution_count": 37,
   "id": "806c479d-fb63-4353-9454-8e2a2253a7d1",
   "metadata": {
    "editable": true,
    "slideshow": {
     "slide_type": ""
    },
    "tags": []
   },
   "outputs": [
    {
     "name": "stdout",
     "output_type": "stream",
     "text": [
      "RX(0.5)[0] * NOT[1|0]\n"
     ]
    }
   ],
   "source": [
    "from __future__ import annotations\n",
    "\n",
    "from qadence2_expressions import NOT, RX\n",
    "\n",
    "rx = RX(0.5)(0)\n",
    "CNOT = lambda ctrl, tgt: NOT(target=(tgt,), control=(ctrl,))\n",
    "cnot = CNOT(0, 1)\n",
    "\n",
    "block = rx*cnot\n",
    "print(block)"
   ]
  },
  {
   "cell_type": "code",
   "execution_count": 36,
   "id": "6ee4309c-39d9-4e9c-8f91-52714ca12a86",
   "metadata": {},
   "outputs": [
    {
     "name": "stdout",
     "output_type": "stream",
     "text": [
      "X[0] * Y[0] * X[1] * Y[1]\n"
     ]
    }
   ],
   "source": [
    "# from qadence import X, Y, chain, kron\n",
    "from qadence2_expressions import X, Y\n",
    "\n",
    "chain_0 = X(0)*Y(0)\n",
    "chain_1 = X(1)*Y(1)\n",
    "\n",
    "kron_block = chain_0*chain_1\n",
    "\n",
    "print(kron_block)"
   ]
  },
  {
   "cell_type": "code",
   "execution_count": 10,
   "id": "bb7d42bf-0839-46d5-aa30-2d7a1f49fbeb",
   "metadata": {},
   "outputs": [],
   "source": [
    "from qadence2.extensions.legacy import CNOT, RX, chain\n",
    "\n",
    "rx = RX(0, 0.5)\n",
    "cnot = CNOT(0, 1)\n",
    "\n",
    "block = chain([rx, cnot])"
   ]
  },
  {
   "cell_type": "code",
   "execution_count": null,
   "id": "54327f52-a70b-4044-93b4-4156b3d920c0",
   "metadata": {},
   "outputs": [],
   "source": []
  }
 ],
 "metadata": {
  "kernelspec": {
   "display_name": "Python (Hatch: qadence2)",
   "language": "python",
   "name": "qadence2"
  },
  "language_info": {
   "codemirror_mode": {
    "name": "ipython",
    "version": 3
   },
   "file_extension": ".py",
   "mimetype": "text/x-python",
   "name": "python",
   "nbconvert_exporter": "python",
   "pygments_lexer": "ipython3",
   "version": "3.12.8"
  }
 },
 "nbformat": 4,
 "nbformat_minor": 5
}
