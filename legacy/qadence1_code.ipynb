{
 "cells": [
  {
   "cell_type": "code",
   "execution_count": 1,
   "id": "4d975153-9861-424c-a048-0e5235aa3028",
   "metadata": {
    "editable": true,
    "slideshow": {
     "slide_type": ""
    },
    "tags": []
   },
   "outputs": [],
   "source": [
    "from __future__ import annotations\n",
    "\n",
    "from qadence import CNOT, RX, chain\n",
    "\n",
    "rx = RX(0, 0.5)\n",
    "cnot = CNOT(0, 1)\n",
    "\n",
    "block = chain(rx, cnot)"
   ]
  },
  {
   "cell_type": "code",
   "execution_count": 2,
   "id": "739bd7f9-fdbb-4d8b-9ad0-a61dacceb378",
   "metadata": {
    "editable": true,
    "slideshow": {
     "slide_type": ""
    },
    "tags": []
   },
   "outputs": [],
   "source": [
    "from qadence import X, Y, chain, kron\n",
    "\n",
    "chain_0 = chain(X(0), Y(0))\n",
    "chain_1 = chain(X(1), Y(1))\n",
    "\n",
    "kron_block = kron(chain_0, chain_1)"
   ]
  },
  {
   "cell_type": "code",
   "execution_count": 4,
   "id": "747e4d2c-6a8a-4089-aeee-3ad9b71f9ae8",
   "metadata": {},
   "outputs": [],
   "source": [
    "from qadence import X, Y, add\n",
    "\n",
    "\n",
    "def xy_int(i: int, j: int):\n",
    "    return (1/2) * (X(i)@X(j) + Y(i)@Y(j))\n",
    "\n",
    "n_qubits = 3\n",
    "\n",
    "xy_ham = add(xy_int(i, i+1) for i in range(n_qubits-1))"
   ]
  }
 ],
 "metadata": {
  "kernelspec": {
   "display_name": "Python (Hatch: qadence)",
   "language": "python",
   "name": "qadence"
  },
  "language_info": {
   "codemirror_mode": {
    "name": "ipython",
    "version": 3
   },
   "file_extension": ".py",
   "mimetype": "text/x-python",
   "name": "python",
   "nbconvert_exporter": "python",
   "pygments_lexer": "ipython3",
   "version": "3.12.8"
  }
 },
 "nbformat": 4,
 "nbformat_minor": 5
}
