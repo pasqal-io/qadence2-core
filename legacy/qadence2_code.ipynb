{
 "cells": [
  {
   "cell_type": "code",
   "execution_count": 21,
   "id": "bb7d42bf-0839-46d5-aa30-2d7a1f49fbeb",
   "metadata": {},
   "outputs": [],
   "source": [
    "from qadence2.extensions.legacy import chain, RX, CNOT\n",
    "\n",
    "rx = RX(0, 0.5)\n",
    "cnot = CNOT(0, 1)\n",
    "\n",
    "block = chain([rx, cnot])"
   ]
  },
  {
   "cell_type": "code",
   "execution_count": 15,
   "id": "54327f52-a70b-4044-93b4-4156b3d920c0",
   "metadata": {},
   "outputs": [],
   "source": [
    "from qadence2.extensions.legacy import X, Y, chain, kron\n",
    "\n",
    "chain_0 = chain([X(0), Y(0)])\n",
    "chain_1 = chain([X(1), Y(1)])\n",
    "\n",
    "kron_block = kron([chain_0, chain_1])"
   ]
  },
  {
   "cell_type": "code",
   "execution_count": 22,
   "id": "08901f33-6a37-4196-ac9b-c30553966bea",
   "metadata": {},
   "outputs": [],
   "source": [
    "from qadence2.extensions.legacy import X, Y, add\n",
    "\n",
    "def xy_int(i: int, j: int):\n",
    "    return (1/2) * (X(i)*X(j) + Y(i)*Y(j))\n",
    "\n",
    "n_qubits = 3\n",
    "\n",
    "xy_ham = add(xy_int(i, i+1) for i in range(n_qubits-1))"
   ]
  }
 ],
 "metadata": {
  "kernelspec": {
   "display_name": "Python (Hatch: qadence2)",
   "language": "python",
   "name": "qadence2"
  },
  "language_info": {
   "codemirror_mode": {
    "name": "ipython",
    "version": 3
   },
   "file_extension": ".py",
   "mimetype": "text/x-python",
   "name": "python",
   "nbconvert_exporter": "python",
   "pygments_lexer": "ipython3",
   "version": "3.12.8"
  }
 },
 "nbformat": 4,
 "nbformat_minor": 5
}
