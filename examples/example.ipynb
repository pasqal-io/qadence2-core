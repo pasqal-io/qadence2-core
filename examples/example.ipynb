{
 "cells": [
  {
   "cell_type": "markdown",
   "metadata": {},
   "source": [
    "# What is new in Qadence 2?\n"
   ]
  },
  {
   "cell_type": "markdown",
   "metadata": {},
   "source": [
    "\n",
    "## Syntax\n"
   ]
  },
  {
   "cell_type": "markdown",
   "metadata": {},
   "source": [
    "\n",
    "<div align=\"center\">\n",
    "<figure>\n",
    "<img src=\"fig1.png\" width=\"500\"/>\n",
    "<figcaption>From Qadence tutorial</figcaption>\n",
    "<figure>\n",
    "</div>\n",
    "\n",
    "Mathematically\n",
    "$$\n",
    "X_0 \\otimes Y_1 \\otimes RX_2(x) \\otimes RX_3(0.5) \\otimes CX_{2,3} \\otimes e^{-it\\sum_{i=0}^3 Z_i}\n",
    "$$\n",
    "\n",
    "or\n",
    "\n",
    "$$\n",
    "X_0 Y_1 \\, RX_2(x) \\, RX_3(0.5) \\, CX_{2,3} \\, e^{-it\\sum_{i=0}^3 Z_i}\n",
    "$$\n"
   ]
  },
  {
   "cell_type": "code",
   "execution_count": 1,
   "metadata": {},
   "outputs": [
    {
     "data": {
      "text/plain": [
       "X[0] Y[1] RX(x)[2] RX(0.5)[3] X[3| 2] E ^ ((-0-1j) t Z[0] + (-0-1j) t Z[1] + (-0-1j) t Z[2] + (-0-1j) t Z[3])[0, 1, 2, 3]"
      ]
     },
     "execution_count": 1,
     "metadata": {},
     "output_type": "execute_result"
    }
   ],
   "source": [
    "from qadence2.expressions import *\n",
    "\n",
    "x = parameter(\"x\")\n",
    "t = parameter(\"t\")\n",
    "\n",
    "X(0) * Y(1) * RX(x)(2) * RX(0.5)(3) * X(target=(3,), control=(2,)) * exp(-1j * t * sum(Z(i) for i in range(4)))"
   ]
  },
  {
   "cell_type": "code",
   "execution_count": 2,
   "metadata": {},
   "outputs": [
    {
     "data": {
      "text/plain": [
       "X[0] Y[1] RX(x)[2] RX(0.5)[3] X[3| 2] E ^ ((-0-1j) t Z[0] + (-0-1j) t Z[1] + (-0-1j) t Z[2] + (-0-1j) t Z[3])[0, 1, 2, 3]"
      ]
     },
     "execution_count": 2,
     "metadata": {},
     "output_type": "execute_result"
    }
   ],
   "source": [
    "RX(x)(2) * RX(0.5)(3) * X(target=(3,), control=(2,)) * X(0) * Y(1) * exp(-1j * t * sum(Z(i) for i in range(4)))"
   ]
  },
  {
   "cell_type": "markdown",
   "metadata": {},
   "source": [
    "### Different types of symbols for different purposes\n"
   ]
  },
  {
   "cell_type": "markdown",
   "metadata": {},
   "source": [
    "\n",
    "Qadence 2 is designed for QML and supports specialised types for different optimisation strategies. For instance, `parameter` types are treated as constants and only `variable` types are considered during gradient calculations."
   ]
  },
  {
   "cell_type": "code",
   "execution_count": 3,
   "metadata": {},
   "outputs": [],
   "source": [
    "a = parameter(\"a\")\n",
    "b = parameter(\"b\")\n",
    "phi = variable(\"phi\")"
   ]
  },
  {
   "cell_type": "markdown",
   "metadata": {},
   "source": [
    "### Automatic basic simplifications\n"
   ]
  },
  {
   "cell_type": "markdown",
   "metadata": {},
   "source": [
    "\n",
    "Distributive property."
   ]
  },
  {
   "cell_type": "code",
   "execution_count": 4,
   "metadata": {},
   "outputs": [
    {
     "data": {
      "text/plain": [
       "a cos(0.5 phi) X[1] - a sin(0.5 phi) Y[1] - b Z[1]"
      ]
     },
     "execution_count": 4,
     "metadata": {},
     "output_type": "execute_result"
    }
   ],
   "source": [
    "a * (cos(phi / 2) * X(1) - sin(phi / 2) * Y(1)) - b * Z(1)"
   ]
  },
  {
   "cell_type": "markdown",
   "metadata": {},
   "source": [
    "Unitary Hermitian operatins automatic cancelation."
   ]
  },
  {
   "cell_type": "code",
   "execution_count": 5,
   "metadata": {},
   "outputs": [
    {
     "data": {
      "text/plain": [
       "Y[1] Z[2] X[3] + X[3]"
      ]
     },
     "execution_count": 5,
     "metadata": {},
     "output_type": "execute_result"
    }
   ],
   "source": [
    "X(3) * (Y(1) + Z(2)) * Z(2)"
   ]
  },
  {
   "cell_type": "markdown",
   "metadata": {},
   "source": [
    "### Subspace\n"
   ]
  },
  {
   "cell_type": "markdown",
   "metadata": {},
   "source": [
    "\n",
    "Local operations can be spanned over multiple qubits; `X(1, 2)` is mathematically equivalent to $X_1 \\otimes X_2$.\n",
    "\n",
    "Any operation can be used as a controlled operation by providing `target` and `control` indices."
   ]
  },
  {
   "cell_type": "code",
   "execution_count": 6,
   "metadata": {},
   "outputs": [
    {
     "data": {
      "text/plain": [
       "X[1| 0, 2]"
      ]
     },
     "execution_count": 6,
     "metadata": {},
     "output_type": "execute_result"
    }
   ],
   "source": [
    "X(target=(1,), control=(0,2))"
   ]
  },
  {
   "cell_type": "markdown",
   "metadata": {},
   "source": [
    "### Declaring new operators\n"
   ]
  },
  {
   "cell_type": "markdown",
   "metadata": {},
   "source": [
    "\n",
    "Direct declaration."
   ]
  },
  {
   "cell_type": "code",
   "execution_count": 7,
   "metadata": {},
   "outputs": [
    {
     "data": {
      "text/plain": [
       "1.0"
      ]
     },
     "execution_count": 7,
     "metadata": {},
     "output_type": "execute_result"
    }
   ],
   "source": [
    "MyGate = unitary_hermitian_operator('MyGate')\n",
    "\n",
    "MyGate(0, 1) * MyGate(0, 1)"
   ]
  },
  {
   "cell_type": "markdown",
   "metadata": {},
   "source": [
    "As a regular Python function."
   ]
  },
  {
   "cell_type": "code",
   "execution_count": 8,
   "metadata": {},
   "outputs": [
    {
     "data": {
      "text/plain": [
       "0.5 - 0.5 Z[2] - 0.25 Z[1] + 0.25 Z[1] Z[2] - 0.25 Z[3] + 0.25 Z[2] Z[3]"
      ]
     },
     "execution_count": 8,
     "metadata": {},
     "output_type": "execute_result"
    }
   ],
   "source": [
    "n = lambda l: (1 - Z(l)) / 2\n",
    "\n",
    "n(1) * n(2) + n(2) * n(3)"
   ]
  },
  {
   "cell_type": "markdown",
   "metadata": {},
   "source": [
    "### Hardware elements without implementation details\n"
   ]
  },
  {
   "cell_type": "markdown",
   "metadata": {},
   "source": [
    "\n",
    "In this example, the `FreeEvolution(2.5)(1, 2)` indicates an interaction between qubits 1 and 2 over 2.5 unit times. The backend decides how the unit time is defined and how the dynamic decoupling is performed."
   ]
  },
  {
   "cell_type": "code",
   "execution_count": 9,
   "metadata": {},
   "outputs": [
    {
     "data": {
      "text/plain": [
       "NativeDrive(0.5 t, omega, detuning, phase)[*] FreeEvolution(2.5)[1, 2] NativeDrive(0.5 t, omega, -detuning, phase)[*]"
      ]
     },
     "execution_count": 9,
     "metadata": {},
     "output_type": "execute_result"
    }
   ],
   "source": [
    "t = time_variable(\"t\")\n",
    "omega = array_variable(\"omega\", 4)\n",
    "detuning = array_variable(\"detuning\", 3)\n",
    "phase = parameter(\"phase\")\n",
    "\n",
    "expr = (\n",
    "    NativeDrive(t / 2, omega, detuning, phase)()\n",
    "    * FreeEvolution(2.5)(1, 2)\n",
    "    * NativeDrive(t / 2, omega, -detuning, phase)()\n",
    ")\n",
    "\n",
    "expr"
   ]
  },
  {
   "cell_type": "markdown",
   "metadata": {},
   "source": [
    "## 🚧 Symbolic analysis"
   ]
  },
  {
   "cell_type": "code",
   "execution_count": 10,
   "metadata": {},
   "outputs": [
    {
     "data": {
      "text/plain": [
       "RX(0.5 x)[*] CZ[0, 1] RX(0.5 theta)[0]"
      ]
     },
     "execution_count": 10,
     "metadata": {},
     "output_type": "execute_result"
    }
   ],
   "source": [
    "x = parameter(\"x\")\n",
    "theta = variable(\"theta\")\n",
    "expr = RX(x/2)() * CZ(0, 1) * RX(theta/2)(0)\n",
    "expr"
   ]
  },
  {
   "cell_type": "code",
   "execution_count": 11,
   "metadata": {},
   "outputs": [
    {
     "data": {
      "text/plain": [
       "RX(0.5 x)[*] FreeEvolution(2.7)[*] RX(0.5 theta)[0]"
      ]
     },
     "execution_count": 11,
     "metadata": {},
     "output_type": "execute_result"
    }
   ],
   "source": [
    "replace(expr, {CZ(0, 1): FreeEvolution(2.7)()})"
   ]
  },
  {
   "cell_type": "markdown",
   "metadata": {},
   "source": [
    "## Intermidiate representation"
   ]
  },
  {
   "cell_type": "code",
   "execution_count": 12,
   "metadata": {},
   "outputs": [
    {
     "data": {
      "text/plain": [
       "Model(\n",
       "  register=AllocQubits(\n",
       "    num_qubits=3,\n",
       "    qubit_positions=[],\n",
       "    grid_type=None,\n",
       "    grid_scale=1.0,\n",
       "    options={},\n",
       "  ),\n",
       "  inputs={\n",
       "    'a': Alloc(1, trainable=False),\n",
       "    'phi': Alloc(1, trainable=True),\n",
       "    'b': Alloc(1, trainable=False),\n",
       "  },\n",
       "  instructions=[\n",
       "    Assign('%0', Call('mul', 0.5, Load('a'))),\n",
       "    Assign('%1', Call('mul', Load('%0'), Load('phi'))),\n",
       "    QuInstruct('rx', Support(target=(2,)), Load('%1')),\n",
       "    QuInstruct('cz', Support.target_all()),\n",
       "    Assign('%2', Call('mul', 0.5, Load('b'))),\n",
       "    Assign('%3', Call('mul', Load('%2'), Load('phi'))),\n",
       "    QuInstruct('ry', Support(target=(0,)), Load('%3')),\n",
       "  ],\n",
       "  directives={},\n",
       "  settings={},\n",
       ")"
      ]
     },
     "execution_count": 12,
     "metadata": {},
     "output_type": "execute_result"
    }
   ],
   "source": [
    "expr = RX(a * phi / 2)(2) * CZ() * RY(b * phi / 2)(0)\n",
    "\n",
    "irc(expr)"
   ]
  },
  {
   "cell_type": "code",
   "execution_count": 13,
   "metadata": {},
   "outputs": [
    {
     "data": {
      "text/plain": [
       "Model(\n",
       "  register=AllocQubits(\n",
       "    num_qubits=4,\n",
       "    qubit_positions=[(-1, 0), (-1, 1), (1, 0), (1, 1)],\n",
       "    grid_type=triangular,\n",
       "    grid_scale=1.0,\n",
       "    options={},\n",
       "  ),\n",
       "  inputs={\n",
       "    't': Alloc(1, trainable=True, attrs={'time_parameter': True}),\n",
       "    'omega': Alloc(4, trainable=True),\n",
       "    'detuning': Alloc(3, trainable=True),\n",
       "    'phase': Alloc(1, trainable=False),\n",
       "  },\n",
       "  instructions=[\n",
       "    Assign('%0', Call('mul', 0.5, Load('t'))),\n",
       "    QuInstruct('dyn_pulse', Support.target_all(), Load('%0'), Load('omega'), Load('detuning'), Load('phase')),\n",
       "    QuInstruct('dyn_wait', Support(target=(1, 2)), 2.5),\n",
       "    Assign('%1', Call('mul', -1.0, Load('detuning'))),\n",
       "    QuInstruct('dyn_pulse', Support.target_all(), Load('%0'), Load('omega'), Load('%1'), Load('phase')),\n",
       "  ],\n",
       "  directives={},\n",
       "  settings={},\n",
       ")"
      ]
     },
     "execution_count": 13,
     "metadata": {},
     "output_type": "execute_result"
    }
   ],
   "source": [
    "reset_ir_options()\n",
    "set_qubits_positions([(-1,0), (-1, 1), (1, 0), (1, 1)])\n",
    "set_grid_type(\"triangular\")\n",
    "\n",
    "t = time_variable(\"t\")\n",
    "omega = array_variable(\"omega\", 4)\n",
    "detuning = array_variable(\"detuning\", 3)\n",
    "phase = parameter(\"phase\")\n",
    "\n",
    "expr = (\n",
    "    NativeDrive(t / 2, omega, detuning, phase)()\n",
    "    * FreeEvolution(2.5)(1, 2)\n",
    "    * NativeDrive(t / 2, omega, -detuning, phase)()\n",
    ")\n",
    "\n",
    "irc(expr)"
   ]
  },
  {
   "cell_type": "markdown",
   "metadata": {},
   "source": [
    "## Pulser example"
   ]
  },
  {
   "cell_type": "code",
   "execution_count": 14,
   "metadata": {},
   "outputs": [
    {
     "name": "stdout",
     "output_type": "stream",
     "text": [
      "RX(0.5 x)[*]\n",
      "-----\n",
      "Model(\n",
      "  register=AllocQubits(\n",
      "    num_qubits=3,\n",
      "    qubit_positions=[(0, 0), (0, 1), (1, 0)],\n",
      "    grid_type=triangular,\n",
      "    grid_scale=1.0,\n",
      "    options={},\n",
      "  ),\n",
      "  inputs={\n",
      "    'x': Alloc(1, trainable=False),\n",
      "  },\n",
      "  instructions=[\n",
      "    Assign('%0', Call('mul', 0.5, Load('x'))),\n",
      "    QuInstruct('rx', Support.target_all(), Load('%0')),\n",
      "  ],\n",
      "  directives={\n",
      "    'enable_digital_analog': True,\n",
      "  },\n",
      "  settings={},\n",
      ")\n"
     ]
    },
    {
     "data": {
      "text/plain": [
       "Counter({'101': 137,\n",
       "         '011': 133,\n",
       "         '000': 130,\n",
       "         '010': 125,\n",
       "         '001': 124,\n",
       "         '100': 119,\n",
       "         '110': 117,\n",
       "         '111': 115})"
      ]
     },
     "execution_count": 14,
     "metadata": {},
     "output_type": "execute_result"
    }
   ],
   "source": [
    "from qadence2.platforms.compiler import compile\n",
    "from qadence2.platforms.types import DeviceName\n",
    "\n",
    "reset_ir_options()\n",
    "set_qubits_positions([(0,0), (0, 1), (1, 0)])\n",
    "set_grid_type(\"triangular\")\n",
    "add_qpu_directives({\"enable_digital_analog\": True})\n",
    "\n",
    "x = parameter(\"x\")\n",
    "expr = RX(x/2)()\n",
    "\n",
    "model = irc(expr)\n",
    "api = compile(model, \"pulser\", DeviceName.FRESNEL_EOM)\n",
    "result = api.run(num_shots=1000, values={\"x\": 3.14})\n",
    "\n",
    "print(expr, model, sep=\"\\n-----\\n\")\n",
    "result"
   ]
  }
 ],
 "metadata": {
  "kernelspec": {
   "display_name": "Python 3",
   "language": "python",
   "name": "python3"
  },
  "language_info": {
   "codemirror_mode": {
    "name": "ipython",
    "version": 3
   },
   "file_extension": ".py",
   "mimetype": "text/x-python",
   "name": "python",
   "nbconvert_exporter": "python",
   "pygments_lexer": "ipython3",
   "version": "3.10.14"
  }
 },
 "nbformat": 4,
 "nbformat_minor": 2
}
