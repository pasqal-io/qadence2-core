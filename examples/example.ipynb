{
 "cells": [
  {
   "cell_type": "markdown",
   "metadata": {},
   "source": [
    "# Basic examples"
   ]
  },
  {
   "cell_type": "code",
   "execution_count": 1,
   "metadata": {},
   "outputs": [],
   "source": [
    "from qadence2.expressions import *"
   ]
  },
  {
   "cell_type": "markdown",
   "metadata": {},
   "source": [
    "### Different types of symbols for different purposes\n",
    "Qadence 2 is designed for QML and supports specialised types for different optimisation strategies. For instance, `parameter` types are treated as constants and only `variable` types are considered during gradient calculations."
   ]
  },
  {
   "cell_type": "code",
   "execution_count": 2,
   "metadata": {},
   "outputs": [],
   "source": [
    "a = parameter(\"a\")\n",
    "b = parameter(\"b\")\n",
    "phi = variable(\"phi\")"
   ]
  },
  {
   "cell_type": "markdown",
   "metadata": {},
   "source": [
    "### Automatic basic simplifications\n",
    "Distributive property."
   ]
  },
  {
   "cell_type": "code",
   "execution_count": 3,
   "metadata": {},
   "outputs": [
    {
     "data": {
      "text/plain": [
       "a cos(0.5 phi) X[1] - a sin(0.5 phi) Y[1] - b Z[1]"
      ]
     },
     "execution_count": 3,
     "metadata": {},
     "output_type": "execute_result"
    }
   ],
   "source": [
    "a * (cos(phi / 2) * X(1) - sin(phi / 2) * Y(1)) - b * Z(1)"
   ]
  },
  {
   "cell_type": "markdown",
   "metadata": {},
   "source": [
    "Unitary Hermitian operatins automatic cancelation."
   ]
  },
  {
   "cell_type": "code",
   "execution_count": 4,
   "metadata": {},
   "outputs": [
    {
     "data": {
      "text/plain": [
       "Y[1] Z[2] X[3] + X[3]"
      ]
     },
     "execution_count": 4,
     "metadata": {},
     "output_type": "execute_result"
    }
   ],
   "source": [
    "X(3) * (Y(1) + Z(2)) * Z(2)"
   ]
  },
  {
   "cell_type": "markdown",
   "metadata": {},
   "source": [
    "### Subspace\n",
    "Local operations can be spanned over multiple qubits; `X(1, 2)` is mathematically equivalent to $X_1 \\otimes X_2$.\n",
    "\n",
    "Any operation can be used as a controlled operation by providing `target` and `control` indices."
   ]
  },
  {
   "cell_type": "code",
   "execution_count": 11,
   "metadata": {},
   "outputs": [
    {
     "data": {
      "text/plain": [
       "X[1; 0 2]"
      ]
     },
     "execution_count": 11,
     "metadata": {},
     "output_type": "execute_result"
    }
   ],
   "source": [
    "X(target=(1,), control=(0,2))"
   ]
  },
  {
   "cell_type": "markdown",
   "metadata": {},
   "source": [
    "### Declaring new operators\n",
    "Direct declaration."
   ]
  },
  {
   "cell_type": "code",
   "execution_count": 14,
   "metadata": {},
   "outputs": [
    {
     "data": {
      "text/plain": [
       "1.0"
      ]
     },
     "execution_count": 14,
     "metadata": {},
     "output_type": "execute_result"
    }
   ],
   "source": [
    "CZ = unitary_hermitian_operator('CZ')\n",
    "\n",
    "CZ(0, 1) * CZ(0, 1)"
   ]
  },
  {
   "cell_type": "markdown",
   "metadata": {},
   "source": [
    "As a regular Python function."
   ]
  },
  {
   "cell_type": "code",
   "execution_count": 6,
   "metadata": {},
   "outputs": [
    {
     "data": {
      "text/plain": [
       "0.5 - 0.5 Z[2] - 0.25 Z[1] + 0.25 Z[1] Z[2] - 0.25 Z[3] + 0.25 Z[2] Z[3]"
      ]
     },
     "execution_count": 6,
     "metadata": {},
     "output_type": "execute_result"
    }
   ],
   "source": [
    "n = lambda l: (1 - Z(l)) / 2\n",
    "\n",
    "n(1) * n(2) + n(2) * n(3)"
   ]
  },
  {
   "cell_type": "markdown",
   "metadata": {},
   "source": [
    "### Intermidiate representation"
   ]
  },
  {
   "cell_type": "code",
   "execution_count": 7,
   "metadata": {},
   "outputs": [
    {
     "data": {
      "text/plain": [
       "Model(\n",
       "  register=AllocQubits(\n",
       "    num_qubits=3,\n",
       "    qubit_positions=[],\n",
       "    grid_type=None,\n",
       "    grid_scale=1.0,\n",
       "    options={},\n",
       "  ),\n",
       "  inputs={\n",
       "    'a': Alloc(1, trainable=False),\n",
       "    'phi': Alloc(1, trainable=True),\n",
       "    'b': Alloc(1, trainable=False),\n",
       "  },\n",
       "  instructions=[\n",
       "    Assign('%0', Call('mul', 0.5, Load('a'))),\n",
       "    Assign('%1', Call('mul', Load('%0'), Load('phi'))),\n",
       "    QuInstruct('rx', Support(target=(2,)), Load('%1')),\n",
       "    QuInstruct('cz', Support.target_all(), attrs={'is_hermitian': True, 'is_unitary': True}),\n",
       "    Assign('%2', Call('mul', 0.5, Load('b'))),\n",
       "    Assign('%3', Call('mul', Load('%2'), Load('phi'))),\n",
       "    QuInstruct('ry', Support(target=(0,)), Load('%3')),\n",
       "  ],\n",
       "  directives={},\n",
       "  settings={},\n",
       ")"
      ]
     },
     "execution_count": 7,
     "metadata": {},
     "output_type": "execute_result"
    }
   ],
   "source": [
    "expr = RX(a * phi / 2)(2) * CZ() * RY(b * phi / 2)(0)\n",
    "\n",
    "irc(expr)"
   ]
  },
  {
   "cell_type": "markdown",
   "metadata": {},
   "source": [
    "### Hardware elements without implementation details\n",
    "\n",
    "In this example, the `FreeEvolution(2.5)(1, 2)` indicates an interaction between qubits 1 and 2 over 2.5 unit times. The backend decides how the unit time is defined and how the dynamic decoupling is performed."
   ]
  },
  {
   "cell_type": "code",
   "execution_count": 8,
   "metadata": {},
   "outputs": [
    {
     "data": {
      "text/plain": [
       "Model(\n",
       "  register=AllocQubits(\n",
       "    num_qubits=4,\n",
       "    qubit_positions=[(-1, 0), (-1, 1), (1, 0), (1, 1)],\n",
       "    grid_type=triangular,\n",
       "    grid_scale=1.0,\n",
       "    options={},\n",
       "  ),\n",
       "  inputs={\n",
       "    't': Alloc(1, trainable=True, attrs={'time_parameter': True}),\n",
       "    'omega': Alloc(4, trainable=True),\n",
       "    'detuning': Alloc(3, trainable=True),\n",
       "    'phase': Alloc(1, trainable=False),\n",
       "  },\n",
       "  instructions=[\n",
       "    Assign('%0', Call('mul', 0.5, Load('t'))),\n",
       "    QuInstruct('dyn_pulse', Support.target_all(), Load('%0'), Load('omega'), Load('detuning'), Load('phase')),\n",
       "    QuInstruct('dyn_wait', Support(target=(1, 2)), 2.5),\n",
       "    Assign('%1', Call('mul', -1.0, Load('detuning'))),\n",
       "    QuInstruct('dyn_pulse', Support.target_all(), Load('%0'), Load('omega'), Load('%1'), Load('phase')),\n",
       "  ],\n",
       "  directives={},\n",
       "  settings={},\n",
       ")"
      ]
     },
     "execution_count": 8,
     "metadata": {},
     "output_type": "execute_result"
    }
   ],
   "source": [
    "set_qubits_positions([(-1,0), (-1, 1), (1, 0), (1, 1)])\n",
    "set_grid_type(\"triangular\")\n",
    "\n",
    "t = time_variable(\"t\")\n",
    "omega = array_variable(\"omega\", 4)\n",
    "detuning = array_variable(\"detuning\", 3)\n",
    "phase = parameter(\"phase\")\n",
    "\n",
    "expr = (\n",
    "    NativeDrive(t / 2, omega, detuning, phase)()\n",
    "    * FreeEvolution(2.5)(1, 2)\n",
    "    * NativeDrive(t / 2, omega, -detuning, phase)()\n",
    ")\n",
    "\n",
    "irc(expr)"
   ]
  }
 ],
 "metadata": {
  "kernelspec": {
   "display_name": "Python 3",
   "language": "python",
   "name": "python3"
  },
  "language_info": {
   "codemirror_mode": {
    "name": "ipython",
    "version": 3
   },
   "file_extension": ".py",
   "mimetype": "text/x-python",
   "name": "python",
   "nbconvert_exporter": "python",
   "pygments_lexer": "ipython3",
   "version": "3.10.14"
  }
 },
 "nbformat": 4,
 "nbformat_minor": 2
}
